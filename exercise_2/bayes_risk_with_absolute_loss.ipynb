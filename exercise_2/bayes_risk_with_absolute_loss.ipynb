{
 "cells": [
  {
   "cell_type": "markdown",
   "id": "6302e003",
   "metadata": {},
   "source": [
    "# Exercise 2: Bayes Risk with Absolute Loss\n",
    "\n",
    "## Question 0 (M)\n",
    "\n",
    "**Propose a function $f: \\mathbb{R} \\to \\mathbb{R}$ that has a zero derivative at some real value $x_0$, but $f(x_0)$ is not a local extremum of the function.**\n",
    "\n",
    "Let us consider the function:\n",
    "\n",
    "$$\n",
    "f(x) = \\begin{cases}\n",
    "    -x^2 & \\text{if } x < 0 \\\\\n",
    "    x^2 & \\text{if } x \\geq 0\n",
    "\\end{cases}\n",
    "$$\n",
    "\n",
    "Let us show that $f'(0) = 0$ but $f(0)$ is not a local extremum.\n",
    "\n",
    "**Proof:**\n",
    "\n",
    "The right-hand derivative at $x=0$ is:\n",
    "$$\n",
    "\\lim_{x \\to 0^+} \\frac{f(x) - f(0)}{x - 0} = \\lim_{x \\to 0^+} \\frac{x^2 - 0}{x} = \\lim_{x \\to 0^+} x = 0\n",
    "$$\n",
    "\n",
    "The left-hand derivative at $x=0$ is:\n",
    "$$\n",
    "\\lim_{x \\to 0^-} \\frac{f(x) - f(0)}{x - 0} = \\lim_{x \\to 0^-} \\frac{-(x^2) - 0}{x} = \\lim_{x \\to 0^-} -x = 0\n",
    "$$\n",
    "\n",
    "Therefore, $f'(0) = 0$.\n",
    "\n",
    "However, $f(0) = 0$ is not a local extremum. Indeed, in any neighborhood of $0$, $f(x)$ takes both positive and negative values (for $x > 0$, $f(x) > 0$; for $x < 0$, $f(x) < 0$). Thus, there is no neighborhood of $0$ in which $f(0)$ is either a maximum or a minimum.\n"
   ]
  }
 ],
 "metadata": {
  "language_info": {
   "name": "python"
  }
 },
 "nbformat": 4,
 "nbformat_minor": 5
}
