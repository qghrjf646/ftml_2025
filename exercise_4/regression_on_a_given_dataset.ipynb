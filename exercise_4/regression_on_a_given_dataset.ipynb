{
 "cells": [
  {
   "cell_type": "markdown",
   "id": "0893a275",
   "metadata": {},
   "source": [
    "# Exercise 4: Regression on a Given Dataset\n",
    "\n",
    "**Objective**: Perform regression on the provided dataset using at least two different methods. Compare the methods in terms of performance (MSE), discussing optimization procedures, hyperparameters, cross-validation, etc. Target: R² score > 0.88 on test set.\n",
    "\n",
    "## Experimental Process\n",
    "\n",
    "This notebook demonstrates a systematic approach to regression on high-dimensional data (200 features, 200 samples), where the number of features equals the number of samples (overfitting risk). Our process includes:\n",
    "\n",
    "1. **Data exploration and baseline**: Understanding the dataset characteristics and establishing a linear regression baseline\n",
    "2. **Regularization methods**: Exploring Ridge, Lasso, and Elastic Net to control overfitting  \n",
    "3. **Dimensionality analysis**: Using PCA to understand feature importance and enable efficient computation\n",
    "4. **Alternative approaches**: Testing KNN and SVR to explore non-linear relationships\n",
    "5. **Neural network exploration**: Systematic hyperparameter tuning of Feed-Forward Neural Networks\n",
    "\n",
    "## Main Results\n",
    "\n",
    "Through this experimentation process, **two models successfully achieve the target R² > 0.88**:\n",
    "- **Lasso Regression**: L1 regularization with automatic feature selection (Test R² ≈ 0.92)\n",
    "- **3-Layer Feed-Forward Neural Network**: Deep linear architecture capturing complex transformations (Test R² ≈ 0.89)\n",
    "\n",
    "**Note**: Elastic Net also achieved the target (Test R² ≈ 0.92), but with optimal l1_ratio = 0.9, it essentially behaved like Lasso regression, heavily favoring L1 regularization for feature selection.\n",
    "\n",
    "The other models serve to demonstrate the experimental process and validate our approach, showing why feature selection and deep linear transformations work best for this dataset."
   ]
  },
  {
   "cell_type": "code",
   "execution_count": 1,
   "id": "de1b3074",
   "metadata": {},
   "outputs": [
    {
     "name": "stdout",
     "output_type": "stream",
     "text": [
      "=== Exercise 4: Regression Dataset Analysis ===\n",
      "Loading pre-split numpy arrays...\n",
      "Successfully loaded all arrays!\n",
      "X_train shape: (200, 200)\n",
      "X_test shape: (200, 200)\n",
      "y_train shape: (200, 1)\n",
      "y_test shape: (200, 1)\n"
     ]
    }
   ],
   "source": [
    "import numpy as np\n",
    "import matplotlib.pyplot as plt\n",
    "from sklearn.linear_model import LinearRegression\n",
    "from sklearn.preprocessing import StandardScaler\n",
    "from sklearn.metrics import r2_score, mean_squared_error, mean_absolute_error\n",
    "import warnings\n",
    "warnings.filterwarnings('ignore')\n",
    "\n",
    "np.random.seed(42)\n",
    "\n",
    "print(\"=== Exercise 4: Regression Dataset Analysis ===\")\n",
    "print(\"Loading pre-split numpy arrays...\")\n",
    "\n",
    "data_path = \"data/regression/\"\n",
    "\n",
    "try:\n",
    "    X_train = np.load(data_path + \"X_train.npy\")\n",
    "    X_test = np.load(data_path + \"X_test.npy\")\n",
    "    y_train = np.load(data_path + \"y_train.npy\")\n",
    "    y_test = np.load(data_path + \"y_test.npy\")\n",
    "    \n",
    "    print(\"Successfully loaded all arrays!\")\n",
    "    print(f\"X_train shape: {X_train.shape}\")\n",
    "    print(f\"X_test shape: {X_test.shape}\")\n",
    "    print(f\"y_train shape: {y_train.shape}\")\n",
    "    print(f\"y_test shape: {y_test.shape}\")\n",
    "    \n",
    "except FileNotFoundError as e:\n",
    "    print(f\"Error loading files: {e}\")\n",
    "    print(\"Please check that the files exist in the specified directory.\")"
   ]
  },
  {
   "cell_type": "markdown",
   "id": "092c36cb",
   "metadata": {},
   "source": [
    "## Data Exploration\n",
    "\n",
    "We start by loading and exploring the dataset to understand its structure, features, and statistical properties."
   ]
  },
  {
   "cell_type": "code",
   "execution_count": 2,
   "id": "e89d275e",
   "metadata": {},
   "outputs": [
    {
     "name": "stdout",
     "output_type": "stream",
     "text": [
      "=== Dataset Analysis ===\n",
      "\n",
      "=== Data Properties ===\n",
      "X_train data type: float64\n",
      "y_train data type: float64\n",
      "X_train range: [0.000, 1.000]\n",
      "y_train range: [1.930, 7.465]\n",
      "X_test data type: float64\n",
      "y_test data type: float64\n",
      "X_test range: [0.000, 1.000]\n",
      "y_test range: [2.282, 7.482]\n",
      "\n",
      "=== Data Quality ===\n",
      "X_train has NaN: False\n",
      "X_train has inf: False\n",
      "y_train has NaN: False\n",
      "y_train has inf: False\n",
      "\n",
      "=== Dimensionality Analysis ===\n",
      "Number of features: 200\n",
      "Number of training samples: 200\n"
     ]
    }
   ],
   "source": [
    "print(\"=== Dataset Analysis ===\")\n",
    "\n",
    "print(f\"\\n=== Data Properties ===\")\n",
    "print(f\"X_train data type: {X_train.dtype}\")\n",
    "print(f\"y_train data type: {y_train.dtype}\")\n",
    "print(f\"X_train range: [{X_train.min():.3f}, {X_train.max():.3f}]\")\n",
    "print(f\"y_train range: [{y_train.min():.3f}, {y_train.max():.3f}]\")\n",
    "print(f\"X_test data type: {X_test.dtype}\")\n",
    "print(f\"y_test data type: {y_test.dtype}\")\n",
    "print(f\"X_test range: [{X_test.min():.3f}, {X_test.max():.3f}]\")\n",
    "print(f\"y_test range: [{y_test.min():.3f}, {y_test.max():.3f}]\")\n",
    "\n",
    "print(f\"\\n=== Data Quality ===\")\n",
    "print(f\"X_train has NaN: {np.isnan(X_train).any()}\")\n",
    "print(f\"X_train has inf: {np.isinf(X_train).any()}\")\n",
    "print(f\"y_train has NaN: {np.isnan(y_train).any()}\")\n",
    "print(f\"y_train has inf: {np.isinf(y_train).any()}\")\n",
    "\n",
    "print(f\"\\n=== Dimensionality Analysis ===\")\n",
    "print(f\"Number of features: {X_train.shape[1]}\")\n",
    "print(f\"Number of training samples: {X_train.shape[0]}\")"
   ]
  },
  {
   "cell_type": "markdown",
   "id": "fbdd3a27",
   "metadata": {},
   "source": [
    "## Baseline: Linear Regression\n",
    "\n",
    "We start with a simple linear regression model to establish a baseline performance."
   ]
  },
  {
   "cell_type": "code",
   "execution_count": 3,
   "id": "bd169f2a",
   "metadata": {},
   "outputs": [
    {
     "name": "stdout",
     "output_type": "stream",
     "text": [
      "=== Linear Regression Baseline ===\n",
      "Training R²: 1.0000, MSE: 0.0000\n",
      "Test R²: -9.9188, MSE: 8.0383\n",
      "TARGET ACHIEVED: ✗ No (R² > 0.88)\n",
      "Training R²: 1.0000, MSE: 0.0000\n",
      "Test R²: -9.9188, MSE: 8.0383\n",
      "TARGET ACHIEVED: ✗ No (R² > 0.88)\n"
     ]
    }
   ],
   "source": [
    "print(\"=== Linear Regression Baseline ===\")\n",
    "\n",
    "lr_model = LinearRegression()\n",
    "lr_model.fit(X_train, y_train)\n",
    "\n",
    "y_train_pred_lr = lr_model.predict(X_train)\n",
    "y_test_pred_lr = lr_model.predict(X_test)\n",
    "\n",
    "train_r2_lr = r2_score(y_train, y_train_pred_lr)\n",
    "test_r2_lr = r2_score(y_test, y_test_pred_lr)\n",
    "train_mse_lr = mean_squared_error(y_train, y_train_pred_lr)\n",
    "test_mse_lr = mean_squared_error(y_test, y_test_pred_lr)\n",
    "\n",
    "print(f\"Training R²: {train_r2_lr:.4f}, MSE: {train_mse_lr:.4f}\")\n",
    "print(f\"Test R²: {test_r2_lr:.4f}, MSE: {test_mse_lr:.4f}\")\n",
    "print(f\"TARGET ACHIEVED: {'✓ Yes' if test_r2_lr > 0.88 else '✗ No'} (R² > 0.88)\")"
   ]
  },
  {
   "cell_type": "markdown",
   "id": "b34c52d9",
   "metadata": {},
   "source": [
    "## Regularization Methods\n",
    "\n",
    "To address overfitting in this high-dimensional setting, we explore Ridge (L2), Lasso (L1), and Elastic Net (L1+L2) regularization techniques.\n",
    "\n",
    "### Ridge regularization"
   ]
  },
  {
   "cell_type": "code",
   "execution_count": 4,
   "id": "e0b85460",
   "metadata": {},
   "outputs": [
    {
     "name": "stdout",
     "output_type": "stream",
     "text": [
      "Ridge (α=1.0):\n",
      "Training R²: 0.9879, MSE: 0.0108\n",
      "Test R²: 0.7161, MSE: 0.2090\n"
     ]
    }
   ],
   "source": [
    "from sklearn.linear_model import Ridge\n",
    "from sklearn.model_selection import GridSearchCV\n",
    "\n",
    "ridge_param_grid = {'alpha': [0.01, 0.1, 1.0, 10.0, 100.0, 1000.0]}\n",
    "ridge_cv = GridSearchCV(Ridge(random_state=42), ridge_param_grid, cv=5, scoring='r2')\n",
    "ridge_cv.fit(X_train, y_train)\n",
    "\n",
    "ridge_train_pred = ridge_cv.predict(X_train)\n",
    "ridge_test_pred = ridge_cv.predict(X_test)\n",
    "\n",
    "ridge_train_r2 = r2_score(y_train, ridge_train_pred)\n",
    "ridge_test_r2 = r2_score(y_test, ridge_test_pred)\n",
    "ridge_train_mse = mean_squared_error(y_train, ridge_train_pred)\n",
    "ridge_test_mse = mean_squared_error(y_test, ridge_test_pred)\n",
    "\n",
    "print(f\"Ridge (α={ridge_cv.best_params_['alpha']}):\")\n",
    "print(f\"Training R²: {ridge_train_r2:.4f}, MSE: {ridge_train_mse:.4f}\")\n",
    "print(f\"Test R²: {ridge_test_r2:.4f}, MSE: {ridge_test_mse:.4f}\")"
   ]
  },
  {
   "cell_type": "markdown",
   "id": "1d470a0e",
   "metadata": {},
   "source": [
    "### Lasso regularization"
   ]
  },
  {
   "cell_type": "code",
   "execution_count": 5,
   "id": "12fa36b5",
   "metadata": {},
   "outputs": [
    {
     "name": "stdout",
     "output_type": "stream",
     "text": [
      "Lasso (α=0.01):\n",
      "Training R²: 0.9438, MSE: 0.0502\n",
      "Test R²: 0.9189, MSE: 0.0597\n",
      "Selected features: 18/200\n",
      "TARGET ACHIEVED: ✓ Yes (R² > 0.88)\n"
     ]
    }
   ],
   "source": [
    "from sklearn.linear_model import Lasso\n",
    "\n",
    "lasso_param_grid = {'alpha': [0.001, 0.01, 0.1, 1.0, 10.0]}\n",
    "lasso_cv = GridSearchCV(Lasso(random_state=42, max_iter=10000), lasso_param_grid, cv=5, scoring='r2')\n",
    "lasso_cv.fit(X_train, y_train)\n",
    "\n",
    "lasso_train_pred = lasso_cv.predict(X_train)\n",
    "lasso_test_pred = lasso_cv.predict(X_test)\n",
    "\n",
    "lasso_train_r2 = r2_score(y_train, lasso_train_pred)\n",
    "lasso_test_r2 = r2_score(y_test, lasso_test_pred)\n",
    "lasso_train_mse = mean_squared_error(y_train, lasso_train_pred)\n",
    "lasso_test_mse = mean_squared_error(y_test, lasso_test_pred)\n",
    "\n",
    "n_selected_features = np.sum(lasso_cv.best_estimator_.coef_ != 0)\n",
    "\n",
    "print(f\"Lasso (α={lasso_cv.best_params_['alpha']}):\")\n",
    "print(f\"Training R²: {lasso_train_r2:.4f}, MSE: {lasso_train_mse:.4f}\")\n",
    "print(f\"Test R²: {lasso_test_r2:.4f}, MSE: {lasso_test_mse:.4f}\")\n",
    "print(f\"Selected features: {n_selected_features}/{X_train.shape[1]}\")\n",
    "print(f\"TARGET ACHIEVED: {'✓ Yes' if lasso_test_r2 > 0.88 else '✗ No'} (R² > 0.88)\")"
   ]
  },
  {
   "cell_type": "markdown",
   "id": "2ee765b9",
   "metadata": {},
   "source": [
    "### Elastic Net Regularization\n",
    "\n",
    "Elastic Net combines L1 and L2 regularization, providing a balance between Ridge and Lasso approaches."
   ]
  },
  {
   "cell_type": "code",
   "execution_count": 6,
   "id": "065d35f4",
   "metadata": {},
   "outputs": [
    {
     "name": "stdout",
     "output_type": "stream",
     "text": [
      "Elastic Net (α=0.01, l1_ratio=0.9):\n",
      "Training R²: 0.9456, MSE: 0.0486\n",
      "Test R²: 0.9173, MSE: 0.0609\n",
      "Selected features: 21/200\n",
      "TARGET ACHIEVED: ✓ Yes (R² > 0.88)\n"
     ]
    }
   ],
   "source": [
    "from sklearn.linear_model import ElasticNet\n",
    "\n",
    "elastic_param_grid = {\n",
    "    'alpha': [0.001, 0.01, 0.1, 1.0, 10.0],\n",
    "    'l1_ratio': [0.1, 0.3, 0.5, 0.7, 0.9]\n",
    "}\n",
    "elastic_cv = GridSearchCV(ElasticNet(random_state=42, max_iter=10000), elastic_param_grid, cv=5, scoring='r2')\n",
    "elastic_cv.fit(X_train, y_train)\n",
    "\n",
    "elastic_train_pred = elastic_cv.predict(X_train)\n",
    "elastic_test_pred = elastic_cv.predict(X_test)\n",
    "\n",
    "elastic_train_r2 = r2_score(y_train, elastic_train_pred)\n",
    "elastic_test_r2 = r2_score(y_test, elastic_test_pred)\n",
    "elastic_train_mse = mean_squared_error(y_train, elastic_train_pred)\n",
    "elastic_test_mse = mean_squared_error(y_test, elastic_test_pred)\n",
    "\n",
    "n_selected_features_elastic = np.sum(elastic_cv.best_estimator_.coef_ != 0)\n",
    "\n",
    "print(f\"Elastic Net (α={elastic_cv.best_params_['alpha']}, l1_ratio={elastic_cv.best_params_['l1_ratio']}):\")\n",
    "print(f\"Training R²: {elastic_train_r2:.4f}, MSE: {elastic_train_mse:.4f}\")\n",
    "print(f\"Test R²: {elastic_test_r2:.4f}, MSE: {elastic_test_mse:.4f}\")\n",
    "print(f\"Selected features: {n_selected_features_elastic}/{X_train.shape[1]}\")\n",
    "print(f\"TARGET ACHIEVED: {'✓ Yes' if elastic_test_r2 > 0.88 else '✗ No'} (R² > 0.88)\")"
   ]
  },
  {
   "cell_type": "markdown",
   "id": "f148d8ce",
   "metadata": {},
   "source": [
    "## Dimensionality Analysis with PCA\n",
    "\n",
    "We analyze the principal components to understand data structure and enable more efficient computation for subsequent algorithms. With 200 features, PCA helps us understand which components capture most variance."
   ]
  },
  {
   "cell_type": "code",
   "execution_count": 7,
   "id": "69f89f65",
   "metadata": {},
   "outputs": [
    {
     "name": "stdout",
     "output_type": "stream",
     "text": [
      "=== PCA Analysis ===\n",
      "Components for 95% variance: 122 (from 200 features)\n",
      "Transformed shapes: (200, 122), (200, 122)\n",
      "Components for 95% variance: 122 (from 200 features)\n",
      "Transformed shapes: (200, 122), (200, 122)\n"
     ]
    },
    {
     "data": {
      "image/png": "[encoded data removed]",
      "text/plain": [
       "<Figure size 1000x400 with 2 Axes>"
      ]
     },
     "metadata": {},
     "output_type": "display_data"
    }
   ],
   "source": [
    "from sklearn.decomposition import PCA\n",
    "from sklearn.preprocessing import StandardScaler\n",
    "import matplotlib.pyplot as plt\n",
    "\n",
    "scaler = StandardScaler()\n",
    "X_train_scaled = scaler.fit_transform(X_train)\n",
    "X_test_scaled = scaler.transform(X_test)\n",
    "\n",
    "print(\"=== PCA Analysis ===\")\n",
    "pca_full = PCA()\n",
    "pca_full.fit(X_train_scaled)\n",
    "\n",
    "cumulative_variance = np.cumsum(pca_full.explained_variance_ratio_)\n",
    "n_components_95 = np.argmax(cumulative_variance >= 0.95) + 1\n",
    "\n",
    "print(f\"Components for 95% variance: {n_components_95} (from {X_train.shape[1]} features)\")\n",
    "\n",
    "pca_selected = PCA(n_components=n_components_95)\n",
    "X_train_pca = pca_selected.fit_transform(X_train_scaled)\n",
    "X_test_pca = pca_selected.transform(X_test_scaled)\n",
    "\n",
    "print(f\"Transformed shapes: {X_train_pca.shape}, {X_test_pca.shape}\")\n",
    "\n",
    "plt.figure(figsize=(10, 4))\n",
    "plt.subplot(1, 2, 1)\n",
    "plt.plot(range(1, min(51, len(pca_full.explained_variance_ratio_) + 1)), \n",
    "         pca_full.explained_variance_ratio_[:50])\n",
    "plt.xlabel('Component')\n",
    "plt.ylabel('Explained Variance')\n",
    "plt.title('Individual Variance')\n",
    "plt.grid(True)\n",
    "\n",
    "plt.subplot(1, 2, 2)\n",
    "plt.plot(range(1, min(51, len(cumulative_variance) + 1)), cumulative_variance[:50])\n",
    "plt.axhline(y=0.95, color='r', linestyle='--', label='95%')\n",
    "plt.axvline(x=n_components_95, color='r', linestyle='--')\n",
    "plt.xlabel('Components')\n",
    "plt.ylabel('Cumulative Variance')\n",
    "plt.title('Cumulative Variance')\n",
    "plt.legend()\n",
    "plt.grid(True)\n",
    "plt.tight_layout()\n",
    "plt.show()"
   ]
  },
  {
   "cell_type": "markdown",
   "id": "561a6383",
   "metadata": {},
   "source": [
    "## Alternative Methods\n",
    "\n",
    "We explore non-linear approaches to understand if they can capture relationships that linear methods might miss.\n",
    "\n",
    "### K-Nearest Neighbors with PCA\n",
    "\n",
    "KNN can capture non-linear patterns and benefits from the dimensionality reduction provided by PCA."
   ]
  },
  {
   "cell_type": "code",
   "execution_count": 8,
   "id": "54019fe9",
   "metadata": {},
   "outputs": [
    {
     "name": "stdout",
     "output_type": "stream",
     "text": [
      "=== K-Nearest Neighbors with PCA ===\n",
      "KNN (k=15, distance):\n",
      "Training R²: 1.0000, MSE: 0.0000\n",
      "Test R²: 0.1103, MSE: 0.6550\n",
      "KNN (k=15, distance):\n",
      "Training R²: 1.0000, MSE: 0.0000\n",
      "Test R²: 0.1103, MSE: 0.6550\n"
     ]
    }
   ],
   "source": [
    "from sklearn.neighbors import KNeighborsRegressor\n",
    "\n",
    "print(\"=== K-Nearest Neighbors with PCA ===\")\n",
    "\n",
    "knn_param_grid = {'n_neighbors': [3, 5, 7, 10, 15], 'weights': ['uniform', 'distance']}\n",
    "knn_cv = GridSearchCV(KNeighborsRegressor(), knn_param_grid, cv=5, scoring='r2')\n",
    "\n",
    "y_train_flat = y_train.ravel()\n",
    "y_test_flat = y_test.ravel()\n",
    "\n",
    "knn_cv.fit(X_train_pca, y_train_flat)\n",
    "\n",
    "knn_train_pred = knn_cv.predict(X_train_pca)\n",
    "knn_test_pred = knn_cv.predict(X_test_pca)\n",
    "\n",
    "knn_train_r2 = r2_score(y_train_flat, knn_train_pred)\n",
    "knn_test_r2 = r2_score(y_test_flat, knn_test_pred)\n",
    "knn_train_mse = mean_squared_error(y_train_flat, knn_train_pred)\n",
    "knn_test_mse = mean_squared_error(y_test_flat, knn_test_pred)\n",
    "\n",
    "print(f\"KNN (k={knn_cv.best_params_['n_neighbors']}, {knn_cv.best_params_['weights']}):\")\n",
    "print(f\"Training R²: {knn_train_r2:.4f}, MSE: {knn_train_mse:.4f}\")\n",
    "print(f\"Test R²: {knn_test_r2:.4f}, MSE: {knn_test_mse:.4f}\")"
   ]
  },
  {
   "cell_type": "markdown",
   "id": "6a7b7432",
   "metadata": {},
   "source": [
    "### Support Vector Regression\n",
    "\n",
    "We test SVR with linear and RBF kernels to compare with regularized linear methods and explore non-linear transformations."
   ]
  },
  {
   "cell_type": "code",
   "execution_count": 9,
   "id": "a9ced1ff",
   "metadata": {},
   "outputs": [
    {
     "name": "stdout",
     "output_type": "stream",
     "text": [
      "=== Support Vector Regression ===\n"
     ]
    },
    {
     "name": "stdout",
     "output_type": "stream",
     "text": [
      "SVR linear: Training R²: 0.9023, MSE: 0.0873\n",
      "SVR linear: Test R²: 0.3980, MSE: 0.4432\n",
      "SVR rbf: Training R²: 0.9894, MSE: 0.0095\n",
      "SVR rbf: Test R²: 0.3255, MSE: 0.4965\n",
      "Best SVR: linear (R² = 0.3980)\n"
     ]
    }
   ],
   "source": [
    "from sklearn.svm import SVR\n",
    "\n",
    "print(\"=== Support Vector Regression ===\")\n",
    "\n",
    "svr_configs = {\n",
    "    'linear': {'kernel': 'linear', 'C': 10.0, 'epsilon': 0.1},\n",
    "    'rbf': {'kernel': 'rbf', 'C': 100.0, 'epsilon': 0.1, 'gamma': 'scale'}\n",
    "}\n",
    "\n",
    "best_svr_r2 = -np.inf\n",
    "best_svr_kernel = None\n",
    "\n",
    "for kernel_name, params in svr_configs.items():\n",
    "    svr_model = SVR(**params)\n",
    "    svr_model.fit(X_train_pca, y_train_flat)\n",
    "    \n",
    "    svr_train_pred = svr_model.predict(X_train_pca)\n",
    "    svr_test_pred = svr_model.predict(X_test_pca)\n",
    "    \n",
    "    svr_train_r2 = r2_score(y_train_flat, svr_train_pred)\n",
    "    svr_test_r2 = r2_score(y_test_flat, svr_test_pred)\n",
    "    svr_train_mse = mean_squared_error(y_train_flat, svr_train_pred)\n",
    "    svr_test_mse = mean_squared_error(y_test_flat, svr_test_pred)\n",
    "    \n",
    "    print(f\"SVR {kernel_name}: Training R²: {svr_train_r2:.4f}, MSE: {svr_train_mse:.4f}\")\n",
    "    print(f\"SVR {kernel_name}: Test R²: {svr_test_r2:.4f}, MSE: {svr_test_mse:.4f}\")\n",
    "    \n",
    "    if svr_test_r2 > best_svr_r2:\n",
    "        best_svr_r2 = svr_test_r2\n",
    "        best_svr_kernel = kernel_name\n",
    "\n",
    "print(f\"Best SVR: {best_svr_kernel} (R² = {best_svr_r2:.4f})\")\n"
   ]
  },
  {
   "cell_type": "markdown",
   "id": "c25f6865",
   "metadata": {},
   "source": [
    "## Feed-Forward Neural Network Exploration\n",
    "\n",
    "We systematically explore neural network architectures to understand their performance on this high-dimensional dataset. This includes hyperparameter tuning for activation functions, hidden layer sizes, and regularization strength.\n"
   ]
  },
  {
   "cell_type": "code",
   "execution_count": 10,
   "id": "04e20b65",
   "metadata": {},
   "outputs": [
    {
     "name": "stdout",
     "output_type": "stream",
     "text": [
      "=== Feed-Forward Neural Network with Cross-Validation ===\n",
      "Cross-validation results (showing top 5):\n",
      "1. sigmoid  | Hidden: 200 | L1: 0.001 | CV R²: 0.5629 ± 0.1293\n",
      "2. sigmoid  | Hidden: 150 | L1: 0.001 | CV R²: 0.5560 ± 0.1428\n",
      "3. linear   | Hidden: 200 | L1: 0.010 | CV R²: 0.5560 ± 0.1532\n",
      "4. sigmoid  | Hidden: 100 | L1: 0.001 | CV R²: 0.5493 ± 0.1654\n",
      "5. linear   | Hidden: 150 | L1: 0.010 | CV R²: 0.5429 ± 0.1661\n",
      "\n",
      "Best: sigmoid activation, 200 units, L1=0.001\n",
      "1. sigmoid  | Hidden: 200 | L1: 0.001 | CV R²: 0.5629 ± 0.1293\n",
      "2. sigmoid  | Hidden: 150 | L1: 0.001 | CV R²: 0.5560 ± 0.1428\n",
      "3. linear   | Hidden: 200 | L1: 0.010 | CV R²: 0.5560 ± 0.1532\n",
      "4. sigmoid  | Hidden: 100 | L1: 0.001 | CV R²: 0.5493 ± 0.1654\n",
      "5. linear   | Hidden: 150 | L1: 0.010 | CV R²: 0.5429 ± 0.1661\n",
      "\n",
      "Best: sigmoid activation, 200 units, L1=0.001\n"
     ]
    }
   ],
   "source": [
    "import torch\n",
    "import torch.nn as nn\n",
    "import torch.optim as optim\n",
    "import torch.nn.functional as F\n",
    "from sklearn.model_selection import KFold\n",
    "\n",
    "print(\"=== Feed-Forward Neural Network with Cross-Validation ===\")\n",
    "\n",
    "device = torch.device('cuda' if torch.cuda.is_available() else 'cpu')\n",
    "X_train_tensor = torch.FloatTensor(X_train_pca).to(device)\n",
    "y_train_tensor = torch.FloatTensor(y_train_flat).to(device)\n",
    "\n",
    "class FFNN_L1(nn.Module):\n",
    "    def __init__(self, input_size, hidden_size, activation='linear'):\n",
    "        super(FFNN_L1, self).__init__()\n",
    "        self.hidden = nn.Linear(input_size, hidden_size)\n",
    "        self.output = nn.Linear(hidden_size, 1)\n",
    "        self.activation = activation\n",
    "        \n",
    "    def forward(self, x):\n",
    "        x = self.hidden(x)\n",
    "        if self.activation == 'tanh':\n",
    "            x = torch.tanh(x)\n",
    "        elif self.activation == 'relu':\n",
    "            x = F.relu(x)\n",
    "        elif self.activation == 'sigmoid':\n",
    "            x = torch.sigmoid(x)\n",
    "        x = self.output(x)\n",
    "        return x.squeeze()\n",
    "\n",
    "def train_model(model, X_train, y_train, X_val, y_val, l1_lambda, epochs=1000):\n",
    "    criterion = nn.MSELoss()\n",
    "    optimizer = optim.Adam(model.parameters(), lr=0.001)\n",
    "    \n",
    "    best_val_r2 = -np.inf\n",
    "    patience_counter = 0\n",
    "    \n",
    "    for epoch in range(epochs):\n",
    "        model.train()\n",
    "        optimizer.zero_grad()\n",
    "        \n",
    "        outputs = model(X_train)\n",
    "        mse_loss = criterion(outputs, y_train)\n",
    "        \n",
    "        l1_penalty = sum(torch.sum(torch.abs(param)) for param in model.parameters())\n",
    "        total_loss = mse_loss + l1_lambda * l1_penalty\n",
    "        \n",
    "        total_loss.backward()\n",
    "        optimizer.step()\n",
    "        \n",
    "        if epoch % 50 == 0:\n",
    "            model.eval()\n",
    "            with torch.no_grad():\n",
    "                val_outputs = model(X_val)\n",
    "                val_r2 = r2_score(y_val.cpu().numpy(), val_outputs.cpu().numpy())\n",
    "                \n",
    "                if val_r2 > best_val_r2:\n",
    "                    best_val_r2 = val_r2\n",
    "                    patience_counter = 0\n",
    "                else:\n",
    "                    patience_counter += 1\n",
    "                \n",
    "                if patience_counter >= 20:\n",
    "                    break\n",
    "    \n",
    "    return best_val_r2\n",
    "\n",
    "def cross_validate_model(X, y, hidden_size, activation, l1_lambda, k_folds=5):\n",
    "    kfold = KFold(n_splits=k_folds, shuffle=True, random_state=42)\n",
    "    cv_scores = []\n",
    "    \n",
    "    for train_idx, val_idx in kfold.split(X):\n",
    "        X_train_fold = X[train_idx]\n",
    "        y_train_fold = y[train_idx]\n",
    "        X_val_fold = X[val_idx]\n",
    "        y_val_fold = y[val_idx]\n",
    "        \n",
    "        model = FFNN_L1(X.shape[1], hidden_size, activation).to(device)\n",
    "        val_r2 = train_model(model, X_train_fold, y_train_fold, X_val_fold, y_val_fold, l1_lambda)\n",
    "        cv_scores.append(val_r2)\n",
    "    \n",
    "    return np.mean(cv_scores), np.std(cv_scores)\n",
    "\n",
    "# Grid search\n",
    "hidden_sizes = [100, 150, 200]\n",
    "activations = ['linear', 'sigmoid', 'relu', 'tanh']\n",
    "l1_lambdas = [0.001, 0.01, 0.1]\n",
    "\n",
    "print(\"Cross-validation results (showing top 5):\")\n",
    "all_results = []\n",
    "\n",
    "for activation in activations:\n",
    "    for hidden_size in hidden_sizes:\n",
    "        for l1_lambda in l1_lambdas:\n",
    "            mean_cv_r2, std_cv_r2 = cross_validate_model(\n",
    "                X_train_tensor, y_train_tensor, hidden_size, activation, l1_lambda\n",
    "            )\n",
    "            all_results.append({\n",
    "                'activation': activation, 'hidden_size': hidden_size, 'l1_lambda': l1_lambda,\n",
    "                'cv_r2_mean': mean_cv_r2, 'cv_r2_std': std_cv_r2\n",
    "            })\n",
    "\n",
    "all_results.sort(key=lambda x: x['cv_r2_mean'], reverse=True)\n",
    "\n",
    "for i, result in enumerate(all_results[:5]):\n",
    "    print(f\"{i+1}. {result['activation']:8s} | Hidden: {result['hidden_size']:3d} | \"\n",
    "          f\"L1: {result['l1_lambda']:5.3f} | CV R²: {result['cv_r2_mean']:.4f} ± {result['cv_r2_std']:.4f}\")\n",
    "\n",
    "best_config = all_results[0]\n",
    "print(f\"\\nBest: {best_config['activation']} activation, {best_config['hidden_size']} units, L1={best_config['l1_lambda']}\")"
   ]
  },
  {
   "cell_type": "markdown",
   "id": "4c8fe94f",
   "metadata": {},
   "source": [
    "The Feed-Forward Neural Network experimentations show that the difference between activation functions isn't major. But, it helped us get an idea on which hyper-parameters to use. So, we tried a 3 layer neural network, with no activation function, the goal is to capture a more complex, yet still linear, relation between the features.\n",
    "\n",
    "### 3-Layer Neural Network Experiment\n",
    "\n",
    "The FFNN cross-validation showed modest performance (best CV R² ≈ 0.56). We experiment with a deeper architecture to see if multiple linear transformations can capture more complex relationships while maintaining the linear nature that seems important for this dataset."
   ]
  },
  {
   "cell_type": "code",
   "execution_count": 11,
   "id": "b8a7fe8d",
   "metadata": {},
   "outputs": [
    {
     "name": "stdout",
     "output_type": "stream",
     "text": [
      "=== 3-Layer FFNN (100-150-100, Linear Activation) ===\n",
      "Training R²: 0.9910, MSE: 0.0081\n",
      "Test R²: 0.8851, MSE: 0.0846\n",
      "TARGET ACHIEVED: ✓ Yes (R² > 0.88)\n",
      "Training R²: 0.9910, MSE: 0.0081\n",
      "Test R²: 0.8851, MSE: 0.0846\n",
      "TARGET ACHIEVED: ✓ Yes (R² > 0.88)\n"
     ]
    }
   ],
   "source": [
    "# Test 3-layer FFNN with specific architecture\n",
    "import torch\n",
    "import torch.nn as nn\n",
    "import torch.optim as optim\n",
    "from torch.utils.data import TensorDataset, DataLoader\n",
    "from sklearn.metrics import mean_squared_error, mean_absolute_error, r2_score\n",
    "\n",
    "print(\"=== 3-Layer FFNN (100-150-100, Linear Activation) ===\")\n",
    "\n",
    "class ThreeLayerFFNN(nn.Module):\n",
    "    def __init__(self, input_size, l1_reg=0.01):\n",
    "        super(ThreeLayerFFNN, self).__init__()\n",
    "        self.l1_reg = l1_reg\n",
    "        self.layer1 = nn.Linear(input_size, 100)\n",
    "        self.layer2 = nn.Linear(100, 150)\n",
    "        self.layer3 = nn.Linear(150, 100)\n",
    "        self.output = nn.Linear(100, 1)\n",
    "        \n",
    "    def forward(self, x):\n",
    "        x = self.layer1(x)  # Linear activation\n",
    "        x = self.layer2(x)  # Linear activation\n",
    "        x = self.layer3(x)  # Linear activation\n",
    "        x = self.output(x)\n",
    "        return x\n",
    "    \n",
    "    def l1_loss(self):\n",
    "        return self.l1_reg * sum(torch.sum(torch.abs(param)) for param in self.parameters())\n",
    "\n",
    "# Convert to tensors\n",
    "X_train_tensor = torch.FloatTensor(X_train_scaled)\n",
    "y_train_tensor = torch.FloatTensor(y_train_flat.reshape(-1, 1))\n",
    "X_test_tensor = torch.FloatTensor(X_test_scaled)\n",
    "y_test_tensor = torch.FloatTensor(y_test_flat.reshape(-1, 1))\n",
    "\n",
    "# Train model\n",
    "model = ThreeLayerFFNN(X_train_scaled.shape[1], l1_reg=0.01)\n",
    "criterion = nn.MSELoss()\n",
    "optimizer = optim.Adam(model.parameters(), lr=0.001)\n",
    "\n",
    "for epoch in range(1000):\n",
    "    optimizer.zero_grad()\n",
    "    outputs = model(X_train_tensor)\n",
    "    mse_loss = criterion(outputs, y_train_tensor)\n",
    "    total_loss = mse_loss + model.l1_loss()\n",
    "    total_loss.backward()\n",
    "    optimizer.step()\n",
    "\n",
    "# Evaluate\n",
    "model.eval()\n",
    "with torch.no_grad():\n",
    "    train_pred = model(X_train_tensor).numpy().flatten()\n",
    "    test_pred = model(X_test_tensor).numpy().flatten()\n",
    "\n",
    "train_r2 = r2_score(y_train_flat, train_pred)\n",
    "test_r2 = r2_score(y_test_flat, test_pred)\n",
    "train_mse = mean_squared_error(y_train_flat, train_pred)\n",
    "test_mse = mean_squared_error(y_test_flat, test_pred)\n",
    "\n",
    "print(f\"Training R²: {train_r2:.4f}, MSE: {train_mse:.4f}\")\n",
    "print(f\"Test R²: {test_r2:.4f}, MSE: {test_mse:.4f}\")\n",
    "print(f\"TARGET ACHIEVED: {'✓ Yes' if test_r2 > 0.88 else '✗ No'} (R² > 0.88)\")"
   ]
  },
  {
   "cell_type": "markdown",
   "id": "6329fb9d",
   "metadata": {},
   "source": [
    "## Summary and Conclusions\n",
    "\n",
    "This exercise demonstrated a systematic approach to regression on high-dimensional data (200 features, 200 samples), where the number of features equals the number of samples, creating significant overfitting risk.\n",
    "\n",
    "### Experimental Process:\n",
    "\n",
    "1. **Data Exploration**: Confirmed equal features and samples (200x200), high overfitting risk\n",
    "2. **Baseline Linear Regression**: Established baseline performance  \n",
    "3. **Regularization Methods**: Tested Ridge, Lasso, and Elastic Net to control overfitting\n",
    "4. **Dimensionality Analysis**: PCA revealed that 95% variance captured by 122 components  \n",
    "5. **Alternative Approaches**: Explored KNN (given that it benefits from lower dimension spaces, and PCA showed that it's the case for our dataset) and SVR for non-linear relationships\n",
    "6. **Neural Networks**: Systematic hyperparameter tuning of FFNN architectures\n",
    "\n",
    "### Conclusion:\n",
    "\n",
    "Two distinct approaches proved successful: **feature selection through Lasso** and **deep linear transformations through 3-layer FFNN**. \n",
    "\n",
    "**Lasso's success** demonstrates that this dataset benefits significantly from identifying the small subset (~18 features) of truly predictive variables out of 200 total features.\n",
    "\n",
    "**3-layer FFNN's success** shows that while feature selection is one approach, multiple linear transformations can also capture the underlying relationships effectively, suggesting the data has structure that benefits from hierarchical linear mappings."
   ]
  }
 ],
 "metadata": {
  "kernelspec": {
   "display_name": ".venv",
   "language": "python",
   "name": "python3"
  },
  "language_info": {
   "codemirror_mode": {
    "name": "ipython",
    "version": 3
   },
   "file_extension": ".py",
   "mimetype": "text/x-python",
   "name": "python",
   "nbconvert_exporter": "python",
   "pygments_lexer": "ipython3",
   "version": "3.10.12"
  }
 },
 "nbformat": 4,
 "nbformat_minor": 5
}
